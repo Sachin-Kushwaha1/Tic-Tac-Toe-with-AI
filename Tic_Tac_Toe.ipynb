{
  "nbformat": 4,
  "nbformat_minor": 0,
  "metadata": {
    "colab": {
      "provenance": []
    },
    "kernelspec": {
      "name": "python3",
      "display_name": "Python 3"
    },
    "language_info": {
      "name": "python"
    }
  },
  "cells": [
    {
      "cell_type": "markdown",
      "source": [
        "## **Construct & Display the board's current state**\n"
      ],
      "metadata": {
        "id": "FH4p4u1wQpVU"
      }
    },
    {
      "cell_type": "code",
      "execution_count": null,
      "metadata": {
        "id": "VRALFDOKLCu3"
      },
      "outputs": [],
      "source": [
        "#This function is used to construct the board's current state every time the user turn arrives.\n",
        "def ConstBoard(board):\n",
        "    print(\"Current State Of Board : \\n\\n\");\n",
        "    for i in range (0,9):\n",
        "        if((i>0) and (i%3)==0):\n",
        "            print(\"\\n\");\n",
        "        if(board[i]==0):\n",
        "            print(\"- \",end=\" \");\n",
        "        if (board[i]==1):\n",
        "            print(\"O \",end=\" \");\n",
        "        if(board[i]==-1):\n",
        "            print(\"X \",end=\" \");\n",
        "    print(\"\\n\\n\");"
      ]
    },
    {
      "cell_type": "markdown",
      "source": [
        "## **Function for User Input**"
      ],
      "metadata": {
        "id": "yFx3OmnwQ9_r"
      }
    },
    {
      "cell_type": "code",
      "source": [
        "#This function takes the user move as input and make the required changes on the board.\n",
        "def User1Turn(board):\n",
        "    pos=input(\"Enter X's position from [1...9]: \");\n",
        "    pos=int(pos);\n",
        "    if(board[pos-1]!=0):\n",
        "        print(\"Wrong Move!!!\");\n",
        "        exit(0);\n",
        "    board[pos-1]=-1;\n",
        "\n",
        "def User2Turn(board):\n",
        "    pos=input(\"Enter O's position from [1...9]: \");\n",
        "    pos=int(pos);\n",
        "    if(board[pos-1]!=0):\n",
        "        print(\"Wrong Move!!!\");\n",
        "        exit(0);\n",
        "    board[pos-1]=1;\n"
      ],
      "metadata": {
        "id": "pYDHjkzDL5I3"
      },
      "execution_count": null,
      "outputs": []
    },
    {
      "cell_type": "markdown",
      "source": [
        "## **Funtion for Goal State Analysis**"
      ],
      "metadata": {
        "id": "PGNl2jksRLiX"
      }
    },
    {
      "cell_type": "code",
      "source": [
        "#This function is used to analyze a game.\n",
        "def analyzeboard(board):\n",
        "    cb=[[0,1,2],[6,7,8],[3,4,5],[0,3,6],[1,4,7],[2,5,8],[0,4,8],[2,4,6]];\n",
        "\n",
        "    for i in range(0,8):\n",
        "        if(board[cb[i][0]] != 0 and\n",
        "           board[cb[i][0]] == board[cb[i][1]] and\n",
        "           board[cb[i][0]] == board[cb[i][2]]):\n",
        "            return board[cb[i][2]];\n",
        "\n",
        "    return 0;"
      ],
      "metadata": {
        "id": "C0D8WID6P57D"
      },
      "execution_count": null,
      "outputs": []
    },
    {
      "cell_type": "markdown",
      "source": [
        "## **Mini-Max Algorithm**"
      ],
      "metadata": {
        "id": "vi_Xxho1ReKx"
      }
    },
    {
      "cell_type": "code",
      "source": [
        "#MinMax function.\n",
        "def minimax(board,player):\n",
        "    x=analyzeboard(board);\n",
        "    if(x!=0):\n",
        "        return (x*player);\n",
        "    pos=-1;\n",
        "    value=-2;\n",
        "    for i in range(0,9):\n",
        "        if(board[i]==0):\n",
        "            board[i]=player;\n",
        "            score=-minimax(board,(player*-1));\n",
        "            if(score>value):\n",
        "                value=score;\n",
        "                pos=i;\n",
        "            board[i]=0;\n",
        "\n",
        "    if(pos==-1):\n",
        "        return 0;\n",
        "    return value;"
      ],
      "metadata": {
        "id": "qFKf5G-jP-pn"
      },
      "execution_count": null,
      "outputs": []
    },
    {
      "cell_type": "markdown",
      "source": [
        "## **Computer's Turn by evaluating all the results and choosing the best**"
      ],
      "metadata": {
        "id": "oZwGFC_wRqUW"
      }
    },
    {
      "cell_type": "code",
      "source": [
        "#This function makes the computer's move using minmax algorithm.\n",
        "def CompTurn(board):\n",
        "    pos=-1;\n",
        "    value=-2;\n",
        "    for i in range(0,9):\n",
        "        if(board[i]==0):\n",
        "            board[i]=1;\n",
        "            score=-minimax(board, -1);\n",
        "            board[i]=0;\n",
        "            if(score>value):\n",
        "                value=score;\n",
        "                pos=i;\n",
        "\n",
        "    board[pos]=1;"
      ],
      "metadata": {
        "id": "_TT0iIC_QEvb"
      },
      "execution_count": null,
      "outputs": []
    },
    {
      "cell_type": "markdown",
      "source": [
        "## **Main Fuction**"
      ],
      "metadata": {
        "id": "AkoIqE27SCo6"
      }
    },
    {
      "cell_type": "code",
      "source": [
        "#Main Function.\n",
        "def main():\n",
        "    choice=input(\"Enter 1 for single player, 2 for multiplayer: \");\n",
        "    choice=int(choice);\n",
        "    #The broad is considered in the form of a single dimentional array.\n",
        "    #One player moves 1(Maximizer) and other move -1(Minimizer).\n",
        "    board=[0,0,0,0,0,0,0,0,0];\n",
        "    if(choice==1):\n",
        "        print(\"Computer : O Vs. You : X\");\n",
        "        player= input(\"Enter 1 to take first move or 2 for the second move :\");\n",
        "        player = int(player);\n",
        "        for i in range (0,9):\n",
        "            if(analyzeboard(board)!=0):\n",
        "                break;\n",
        "            if((i+player)%2==0):\n",
        "                ConstBoard(board);\n",
        "                print(\"Computer : O Turn\");\n",
        "                CompTurn(board);\n",
        "            else:\n",
        "                ConstBoard(board);\n",
        "                User1Turn(board);1\n",
        "    else:\n",
        "        for i in range (0,9):\n",
        "            if(analyzeboard(board)!=0):\n",
        "                break;\n",
        "            if((i)%2==0):\n",
        "                ConstBoard(board);\n",
        "                User1Turn(board);\n",
        "            else:\n",
        "                ConstBoard(board);\n",
        "                User2Turn(board);\n",
        "\n",
        "\n",
        "    x=analyzeboard(board);\n",
        "    if(x==0):\n",
        "         ConstBoard(board);\n",
        "         print(\"Draw!!!\")\n",
        "    if(x==-1):\n",
        "         ConstBoard(board);\n",
        "         print(\"X Wins :)\")\n",
        "    if(x==1):\n",
        "         ConstBoard(board);\n",
        "         print(\"O Wins :)\")\n"
      ],
      "metadata": {
        "id": "XMN4W4WyQLcW"
      },
      "execution_count": null,
      "outputs": []
    },
    {
      "cell_type": "code",
      "source": [
        "main()"
      ],
      "metadata": {
        "colab": {
          "base_uri": "https://localhost:8080/"
        },
        "id": "oqUn0kwTQQUJ",
        "outputId": "07117a61-3c5f-4686-fd8d-14da498309d5"
      },
      "execution_count": null,
      "outputs": [
        {
          "output_type": "stream",
          "name": "stdout",
          "text": [
            "Enter 1 for single player, 2 for multiplayer: 1\n",
            "Computer : O Vs. You : X\n",
            "Enter 1 to take first move or 2 for the second move :1\n",
            "Current State Of Board : \n",
            "\n",
            "\n",
            "-  -  -  \n",
            "\n",
            "-  -  -  \n",
            "\n",
            "-  -  -  \n",
            "\n",
            "\n",
            "Enter X's position from [1...9]: 5\n",
            "Current State Of Board : \n",
            "\n",
            "\n",
            "-  -  -  \n",
            "\n",
            "-  X  -  \n",
            "\n",
            "-  -  -  \n",
            "\n",
            "\n",
            "Computer : O Turn\n",
            "Current State Of Board : \n",
            "\n",
            "\n",
            "O  -  -  \n",
            "\n",
            "-  X  -  \n",
            "\n",
            "-  -  -  \n",
            "\n",
            "\n",
            "Enter X's position from [1...9]: 3\n",
            "Current State Of Board : \n",
            "\n",
            "\n",
            "O  -  X  \n",
            "\n",
            "-  X  -  \n",
            "\n",
            "-  -  -  \n",
            "\n",
            "\n",
            "Computer : O Turn\n",
            "Current State Of Board : \n",
            "\n",
            "\n",
            "O  -  X  \n",
            "\n",
            "-  X  -  \n",
            "\n",
            "O  -  -  \n",
            "\n",
            "\n",
            "Enter X's position from [1...9]: 4\n",
            "Current State Of Board : \n",
            "\n",
            "\n",
            "O  -  X  \n",
            "\n",
            "X  X  -  \n",
            "\n",
            "O  -  -  \n",
            "\n",
            "\n",
            "Computer : O Turn\n",
            "Current State Of Board : \n",
            "\n",
            "\n",
            "O  -  X  \n",
            "\n",
            "X  X  O  \n",
            "\n",
            "O  -  -  \n",
            "\n",
            "\n",
            "Enter X's position from [1...9]: 9\n",
            "Current State Of Board : \n",
            "\n",
            "\n",
            "O  -  X  \n",
            "\n",
            "X  X  O  \n",
            "\n",
            "O  -  X  \n",
            "\n",
            "\n",
            "Computer : O Turn\n",
            "Current State Of Board : \n",
            "\n",
            "\n",
            "O  O  X  \n",
            "\n",
            "X  X  O  \n",
            "\n",
            "O  -  X  \n",
            "\n",
            "\n",
            "Enter X's position from [1...9]: 8\n",
            "Current State Of Board : \n",
            "\n",
            "\n",
            "O  O  X  \n",
            "\n",
            "X  X  O  \n",
            "\n",
            "O  X  X  \n",
            "\n",
            "\n",
            "Draw!!!\n"
          ]
        }
      ]
    }
  ]
}